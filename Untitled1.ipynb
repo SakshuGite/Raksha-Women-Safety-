{
 "cells": [
  {
   "cell_type": "code",
   "execution_count": 5,
   "id": "3169283a-d475-4565-ae21-9ef19fc51d88",
   "metadata": {},
   "outputs": [],
   "source": [
    "import cv2\n",
    "import torch\n",
    "import numpy as np\n",
    "import playsound\n",
    "import threading\n",
    "import os"
   ]
  },
  {
   "cell_type": "code",
   "execution_count": 6,
   "id": "379c1c00-7c8d-4b0f-9775-229ac0b1bc65",
   "metadata": {},
   "outputs": [
    {
     "name": "stderr",
     "output_type": "stream",
     "text": [
      "Using cache found in C:\\Users\\saksh/.cache\\torch\\hub\\ultralytics_yolov5_v6.2\n",
      "YOLOv5  2024-10-19 Python-3.11.5 torch-2.5.0+cpu CPU\n",
      "\n",
      "Fusing layers... \n",
      "YOLOv5s summary: 213 layers, 7225885 parameters, 0 gradients\n",
      "Adding AutoShape... \n"
     ]
    }
   ],
   "source": [
    "model = torch.hub.load('ultralytics/yolov5:v6.2', 'yolov5s', pretrained=True)"
   ]
  },
  {
   "cell_type": "code",
   "execution_count": 7,
   "id": "bb91645c-cc38-41cc-aaea-b288f5c6ed3b",
   "metadata": {},
   "outputs": [],
   "source": [
    "alarm_sound_path = r'D:\\women_safety\\alarm.mp3'"
   ]
  },
  {
   "cell_type": "code",
   "execution_count": 12,
   "id": "182122e9-b196-4fcb-9ee4-ea43136e8eeb",
   "metadata": {},
   "outputs": [],
   "source": [
    "def play_alarm():\n",
    "    playsound.playsound(alarm_sound_path)\n",
    "\n",
    "def detect_violence(video_path):\n",
    "    cap = cv2.VideoCapture(video_path)\n",
    "    if not cap.isOpened():\n",
    "        print(\"Error: Could not open video.\")\n",
    "        return\n",
    "\n",
    "    total_frames = 0\n",
    "    violent_frames = 0\n",
    "    prev_positions = []\n",
    "    alarm_played = False\n",
    "\n",
    "    while True:\n",
    "        ret, frame = cap.read()\n",
    "        if not ret:\n",
    "            break\n",
    "\n",
    "        total_frames += 1\n",
    "        results = model(frame)\n",
    "\n",
    "        current_positions = []\n",
    "        for *box, conf, cls in results.xyxy[0]:\n",
    "            if model.names[int(cls)] == 'person':\n",
    "                x1, y1, x2, y2 = map(int, box)\n",
    "                current_positions.append((x1, y1, x2, y2))\n",
    "                cv2.rectangle(frame, (x1, y1), (x2, y2), (0, 255, 0), 2)  # Draw bounding box\n",
    "\n",
    "        # Check for violence detection conditions\n",
    "        if detect_violence_conditions(current_positions):\n",
    "            violent_frames += 1\n",
    "            cv2.putText(frame, \"Violence Detected!\", (50, 50), cv2.FONT_HERSHEY_SIMPLEX, 1, (0, 0, 255), 2)\n",
    "            if not alarm_played:\n",
    "                alarm_thread = threading.Thread(target=play_alarm)\n",
    "                alarm_thread.start()  # Start alarm in a new thread\n",
    "                alarm_played = True\n",
    "        else:\n",
    "            alarm_played = False  # Reset alarm if no violence detected\n",
    "\n",
    "        prev_positions = current_positions\n",
    "\n",
    "        # Display the processed frame\n",
    "        cv2.imshow('Processed Video', frame)\n",
    "\n",
    "        # Break the loop on 'q' key press\n",
    "        if cv2.waitKey(1) & 0xFF == ord('q'):\n",
    "            break\n",
    "\n",
    "    cap.release()\n",
    "    cv2.destroyAllWindows()\n"
   ]
  },
  {
   "cell_type": "code",
   "execution_count": 13,
   "id": "98743770-061f-486e-8214-09d3660466f0",
   "metadata": {},
   "outputs": [],
   "source": [
    "def detect_violence_conditions(current_positions):\n",
    "    # Check for proximity between detected persons\n",
    "    for i in range(len(current_positions)):\n",
    "        for j in range(i + 1, len(current_positions)):\n",
    "            distance = np.linalg.norm(np.array(current_positions[i][:2]) - np.array(current_positions[j][:2]))\n",
    "            if distance < 50:  # Adjust this threshold\n",
    "                return True\n",
    "    return False\n"
   ]
  },
  {
   "cell_type": "code",
   "execution_count": 14,
   "id": "aa862be6-a050-454d-9861-022067d7503e",
   "metadata": {},
   "outputs": [],
   "source": [
    "input_video_path = r'D:\\women_safety\\vid.mp4' "
   ]
  },
  {
   "cell_type": "code",
   "execution_count": 15,
   "id": "dcd8e707-7902-4f49-a572-0ded66c428df",
   "metadata": {},
   "outputs": [
    {
     "name": "stderr",
     "output_type": "stream",
     "text": [
      "C:\\Users\\saksh/.cache\\torch\\hub\\ultralytics_yolov5_v6.2\\models\\common.py:630: FutureWarning: `torch.cuda.amp.autocast(args...)` is deprecated. Please use `torch.amp.autocast('cuda', args...)` instead.\n",
      "  with amp.autocast(autocast):\n",
      "C:\\Users\\saksh/.cache\\torch\\hub\\ultralytics_yolov5_v6.2\\models\\common.py:630: FutureWarning: `torch.cuda.amp.autocast(args...)` is deprecated. Please use `torch.amp.autocast('cuda', args...)` instead.\n",
      "  with amp.autocast(autocast):\n",
      "C:\\Users\\saksh/.cache\\torch\\hub\\ultralytics_yolov5_v6.2\\models\\common.py:630: FutureWarning: `torch.cuda.amp.autocast(args...)` is deprecated. Please use `torch.amp.autocast('cuda', args...)` instead.\n",
      "  with amp.autocast(autocast):\n",
      "C:\\Users\\saksh/.cache\\torch\\hub\\ultralytics_yolov5_v6.2\\models\\common.py:630: FutureWarning: `torch.cuda.amp.autocast(args...)` is deprecated. Please use `torch.amp.autocast('cuda', args...)` instead.\n",
      "  with amp.autocast(autocast):\n",
      "C:\\Users\\saksh/.cache\\torch\\hub\\ultralytics_yolov5_v6.2\\models\\common.py:630: FutureWarning: `torch.cuda.amp.autocast(args...)` is deprecated. Please use `torch.amp.autocast('cuda', args...)` instead.\n",
      "  with amp.autocast(autocast):\n",
      "C:\\Users\\saksh/.cache\\torch\\hub\\ultralytics_yolov5_v6.2\\models\\common.py:630: FutureWarning: `torch.cuda.amp.autocast(args...)` is deprecated. Please use `torch.amp.autocast('cuda', args...)` instead.\n",
      "  with amp.autocast(autocast):\n",
      "C:\\Users\\saksh/.cache\\torch\\hub\\ultralytics_yolov5_v6.2\\models\\common.py:630: FutureWarning: `torch.cuda.amp.autocast(args...)` is deprecated. Please use `torch.amp.autocast('cuda', args...)` instead.\n",
      "  with amp.autocast(autocast):\n",
      "C:\\Users\\saksh/.cache\\torch\\hub\\ultralytics_yolov5_v6.2\\models\\common.py:630: FutureWarning: `torch.cuda.amp.autocast(args...)` is deprecated. Please use `torch.amp.autocast('cuda', args...)` instead.\n",
      "  with amp.autocast(autocast):\n",
      "C:\\Users\\saksh/.cache\\torch\\hub\\ultralytics_yolov5_v6.2\\models\\common.py:630: FutureWarning: `torch.cuda.amp.autocast(args...)` is deprecated. Please use `torch.amp.autocast('cuda', args...)` instead.\n",
      "  with amp.autocast(autocast):\n",
      "C:\\Users\\saksh/.cache\\torch\\hub\\ultralytics_yolov5_v6.2\\models\\common.py:630: FutureWarning: `torch.cuda.amp.autocast(args...)` is deprecated. Please use `torch.amp.autocast('cuda', args...)` instead.\n",
      "  with amp.autocast(autocast):\n",
      "C:\\Users\\saksh/.cache\\torch\\hub\\ultralytics_yolov5_v6.2\\models\\common.py:630: FutureWarning: `torch.cuda.amp.autocast(args...)` is deprecated. Please use `torch.amp.autocast('cuda', args...)` instead.\n",
      "  with amp.autocast(autocast):\n",
      "C:\\Users\\saksh/.cache\\torch\\hub\\ultralytics_yolov5_v6.2\\models\\common.py:630: FutureWarning: `torch.cuda.amp.autocast(args...)` is deprecated. Please use `torch.amp.autocast('cuda', args...)` instead.\n",
      "  with amp.autocast(autocast):\n",
      "C:\\Users\\saksh/.cache\\torch\\hub\\ultralytics_yolov5_v6.2\\models\\common.py:630: FutureWarning: `torch.cuda.amp.autocast(args...)` is deprecated. Please use `torch.amp.autocast('cuda', args...)` instead.\n",
      "  with amp.autocast(autocast):\n",
      "C:\\Users\\saksh/.cache\\torch\\hub\\ultralytics_yolov5_v6.2\\models\\common.py:630: FutureWarning: `torch.cuda.amp.autocast(args...)` is deprecated. Please use `torch.amp.autocast('cuda', args...)` instead.\n",
      "  with amp.autocast(autocast):\n",
      "C:\\Users\\saksh/.cache\\torch\\hub\\ultralytics_yolov5_v6.2\\models\\common.py:630: FutureWarning: `torch.cuda.amp.autocast(args...)` is deprecated. Please use `torch.amp.autocast('cuda', args...)` instead.\n",
      "  with amp.autocast(autocast):\n",
      "C:\\Users\\saksh/.cache\\torch\\hub\\ultralytics_yolov5_v6.2\\models\\common.py:630: FutureWarning: `torch.cuda.amp.autocast(args...)` is deprecated. Please use `torch.amp.autocast('cuda', args...)` instead.\n",
      "  with amp.autocast(autocast):\n",
      "C:\\Users\\saksh/.cache\\torch\\hub\\ultralytics_yolov5_v6.2\\models\\common.py:630: FutureWarning: `torch.cuda.amp.autocast(args...)` is deprecated. Please use `torch.amp.autocast('cuda', args...)` instead.\n",
      "  with amp.autocast(autocast):\n",
      "C:\\Users\\saksh/.cache\\torch\\hub\\ultralytics_yolov5_v6.2\\models\\common.py:630: FutureWarning: `torch.cuda.amp.autocast(args...)` is deprecated. Please use `torch.amp.autocast('cuda', args...)` instead.\n",
      "  with amp.autocast(autocast):\n",
      "C:\\Users\\saksh/.cache\\torch\\hub\\ultralytics_yolov5_v6.2\\models\\common.py:630: FutureWarning: `torch.cuda.amp.autocast(args...)` is deprecated. Please use `torch.amp.autocast('cuda', args...)` instead.\n",
      "  with amp.autocast(autocast):\n",
      "C:\\Users\\saksh/.cache\\torch\\hub\\ultralytics_yolov5_v6.2\\models\\common.py:630: FutureWarning: `torch.cuda.amp.autocast(args...)` is deprecated. Please use `torch.amp.autocast('cuda', args...)` instead.\n",
      "  with amp.autocast(autocast):\n",
      "C:\\Users\\saksh/.cache\\torch\\hub\\ultralytics_yolov5_v6.2\\models\\common.py:630: FutureWarning: `torch.cuda.amp.autocast(args...)` is deprecated. Please use `torch.amp.autocast('cuda', args...)` instead.\n",
      "  with amp.autocast(autocast):\n",
      "C:\\Users\\saksh/.cache\\torch\\hub\\ultralytics_yolov5_v6.2\\models\\common.py:630: FutureWarning: `torch.cuda.amp.autocast(args...)` is deprecated. Please use `torch.amp.autocast('cuda', args...)` instead.\n",
      "  with amp.autocast(autocast):\n",
      "C:\\Users\\saksh/.cache\\torch\\hub\\ultralytics_yolov5_v6.2\\models\\common.py:630: FutureWarning: `torch.cuda.amp.autocast(args...)` is deprecated. Please use `torch.amp.autocast('cuda', args...)` instead.\n",
      "  with amp.autocast(autocast):\n",
      "C:\\Users\\saksh/.cache\\torch\\hub\\ultralytics_yolov5_v6.2\\models\\common.py:630: FutureWarning: `torch.cuda.amp.autocast(args...)` is deprecated. Please use `torch.amp.autocast('cuda', args...)` instead.\n",
      "  with amp.autocast(autocast):\n",
      "C:\\Users\\saksh/.cache\\torch\\hub\\ultralytics_yolov5_v6.2\\models\\common.py:630: FutureWarning: `torch.cuda.amp.autocast(args...)` is deprecated. Please use `torch.amp.autocast('cuda', args...)` instead.\n",
      "  with amp.autocast(autocast):\n",
      "C:\\Users\\saksh/.cache\\torch\\hub\\ultralytics_yolov5_v6.2\\models\\common.py:630: FutureWarning: `torch.cuda.amp.autocast(args...)` is deprecated. Please use `torch.amp.autocast('cuda', args...)` instead.\n",
      "  with amp.autocast(autocast):\n",
      "C:\\Users\\saksh/.cache\\torch\\hub\\ultralytics_yolov5_v6.2\\models\\common.py:630: FutureWarning: `torch.cuda.amp.autocast(args...)` is deprecated. Please use `torch.amp.autocast('cuda', args...)` instead.\n",
      "  with amp.autocast(autocast):\n",
      "C:\\Users\\saksh/.cache\\torch\\hub\\ultralytics_yolov5_v6.2\\models\\common.py:630: FutureWarning: `torch.cuda.amp.autocast(args...)` is deprecated. Please use `torch.amp.autocast('cuda', args...)` instead.\n",
      "  with amp.autocast(autocast):\n",
      "C:\\Users\\saksh/.cache\\torch\\hub\\ultralytics_yolov5_v6.2\\models\\common.py:630: FutureWarning: `torch.cuda.amp.autocast(args...)` is deprecated. Please use `torch.amp.autocast('cuda', args...)` instead.\n",
      "  with amp.autocast(autocast):\n",
      "C:\\Users\\saksh/.cache\\torch\\hub\\ultralytics_yolov5_v6.2\\models\\common.py:630: FutureWarning: `torch.cuda.amp.autocast(args...)` is deprecated. Please use `torch.amp.autocast('cuda', args...)` instead.\n",
      "  with amp.autocast(autocast):\n",
      "C:\\Users\\saksh/.cache\\torch\\hub\\ultralytics_yolov5_v6.2\\models\\common.py:630: FutureWarning: `torch.cuda.amp.autocast(args...)` is deprecated. Please use `torch.amp.autocast('cuda', args...)` instead.\n",
      "  with amp.autocast(autocast):\n",
      "C:\\Users\\saksh/.cache\\torch\\hub\\ultralytics_yolov5_v6.2\\models\\common.py:630: FutureWarning: `torch.cuda.amp.autocast(args...)` is deprecated. Please use `torch.amp.autocast('cuda', args...)` instead.\n",
      "  with amp.autocast(autocast):\n",
      "C:\\Users\\saksh/.cache\\torch\\hub\\ultralytics_yolov5_v6.2\\models\\common.py:630: FutureWarning: `torch.cuda.amp.autocast(args...)` is deprecated. Please use `torch.amp.autocast('cuda', args...)` instead.\n",
      "  with amp.autocast(autocast):\n",
      "C:\\Users\\saksh/.cache\\torch\\hub\\ultralytics_yolov5_v6.2\\models\\common.py:630: FutureWarning: `torch.cuda.amp.autocast(args...)` is deprecated. Please use `torch.amp.autocast('cuda', args...)` instead.\n",
      "  with amp.autocast(autocast):\n",
      "C:\\Users\\saksh/.cache\\torch\\hub\\ultralytics_yolov5_v6.2\\models\\common.py:630: FutureWarning: `torch.cuda.amp.autocast(args...)` is deprecated. Please use `torch.amp.autocast('cuda', args...)` instead.\n",
      "  with amp.autocast(autocast):\n",
      "C:\\Users\\saksh/.cache\\torch\\hub\\ultralytics_yolov5_v6.2\\models\\common.py:630: FutureWarning: `torch.cuda.amp.autocast(args...)` is deprecated. Please use `torch.amp.autocast('cuda', args...)` instead.\n",
      "  with amp.autocast(autocast):\n",
      "C:\\Users\\saksh/.cache\\torch\\hub\\ultralytics_yolov5_v6.2\\models\\common.py:630: FutureWarning: `torch.cuda.amp.autocast(args...)` is deprecated. Please use `torch.amp.autocast('cuda', args...)` instead.\n",
      "  with amp.autocast(autocast):\n",
      "C:\\Users\\saksh/.cache\\torch\\hub\\ultralytics_yolov5_v6.2\\models\\common.py:630: FutureWarning: `torch.cuda.amp.autocast(args...)` is deprecated. Please use `torch.amp.autocast('cuda', args...)` instead.\n",
      "  with amp.autocast(autocast):\n",
      "C:\\Users\\saksh/.cache\\torch\\hub\\ultralytics_yolov5_v6.2\\models\\common.py:630: FutureWarning: `torch.cuda.amp.autocast(args...)` is deprecated. Please use `torch.amp.autocast('cuda', args...)` instead.\n",
      "  with amp.autocast(autocast):\n",
      "C:\\Users\\saksh/.cache\\torch\\hub\\ultralytics_yolov5_v6.2\\models\\common.py:630: FutureWarning: `torch.cuda.amp.autocast(args...)` is deprecated. Please use `torch.amp.autocast('cuda', args...)` instead.\n",
      "  with amp.autocast(autocast):\n",
      "C:\\Users\\saksh/.cache\\torch\\hub\\ultralytics_yolov5_v6.2\\models\\common.py:630: FutureWarning: `torch.cuda.amp.autocast(args...)` is deprecated. Please use `torch.amp.autocast('cuda', args...)` instead.\n",
      "  with amp.autocast(autocast):\n",
      "C:\\Users\\saksh/.cache\\torch\\hub\\ultralytics_yolov5_v6.2\\models\\common.py:630: FutureWarning: `torch.cuda.amp.autocast(args...)` is deprecated. Please use `torch.amp.autocast('cuda', args...)` instead.\n",
      "  with amp.autocast(autocast):\n",
      "C:\\Users\\saksh/.cache\\torch\\hub\\ultralytics_yolov5_v6.2\\models\\common.py:630: FutureWarning: `torch.cuda.amp.autocast(args...)` is deprecated. Please use `torch.amp.autocast('cuda', args...)` instead.\n",
      "  with amp.autocast(autocast):\n",
      "C:\\Users\\saksh/.cache\\torch\\hub\\ultralytics_yolov5_v6.2\\models\\common.py:630: FutureWarning: `torch.cuda.amp.autocast(args...)` is deprecated. Please use `torch.amp.autocast('cuda', args...)` instead.\n",
      "  with amp.autocast(autocast):\n",
      "C:\\Users\\saksh/.cache\\torch\\hub\\ultralytics_yolov5_v6.2\\models\\common.py:630: FutureWarning: `torch.cuda.amp.autocast(args...)` is deprecated. Please use `torch.amp.autocast('cuda', args...)` instead.\n",
      "  with amp.autocast(autocast):\n",
      "C:\\Users\\saksh/.cache\\torch\\hub\\ultralytics_yolov5_v6.2\\models\\common.py:630: FutureWarning: `torch.cuda.amp.autocast(args...)` is deprecated. Please use `torch.amp.autocast('cuda', args...)` instead.\n",
      "  with amp.autocast(autocast):\n",
      "C:\\Users\\saksh/.cache\\torch\\hub\\ultralytics_yolov5_v6.2\\models\\common.py:630: FutureWarning: `torch.cuda.amp.autocast(args...)` is deprecated. Please use `torch.amp.autocast('cuda', args...)` instead.\n",
      "  with amp.autocast(autocast):\n",
      "C:\\Users\\saksh/.cache\\torch\\hub\\ultralytics_yolov5_v6.2\\models\\common.py:630: FutureWarning: `torch.cuda.amp.autocast(args...)` is deprecated. Please use `torch.amp.autocast('cuda', args...)` instead.\n",
      "  with amp.autocast(autocast):\n",
      "C:\\Users\\saksh/.cache\\torch\\hub\\ultralytics_yolov5_v6.2\\models\\common.py:630: FutureWarning: `torch.cuda.amp.autocast(args...)` is deprecated. Please use `torch.amp.autocast('cuda', args...)` instead.\n",
      "  with amp.autocast(autocast):\n",
      "C:\\Users\\saksh/.cache\\torch\\hub\\ultralytics_yolov5_v6.2\\models\\common.py:630: FutureWarning: `torch.cuda.amp.autocast(args...)` is deprecated. Please use `torch.amp.autocast('cuda', args...)` instead.\n",
      "  with amp.autocast(autocast):\n",
      "C:\\Users\\saksh/.cache\\torch\\hub\\ultralytics_yolov5_v6.2\\models\\common.py:630: FutureWarning: `torch.cuda.amp.autocast(args...)` is deprecated. Please use `torch.amp.autocast('cuda', args...)` instead.\n",
      "  with amp.autocast(autocast):\n",
      "C:\\Users\\saksh/.cache\\torch\\hub\\ultralytics_yolov5_v6.2\\models\\common.py:630: FutureWarning: `torch.cuda.amp.autocast(args...)` is deprecated. Please use `torch.amp.autocast('cuda', args...)` instead.\n",
      "  with amp.autocast(autocast):\n",
      "C:\\Users\\saksh/.cache\\torch\\hub\\ultralytics_yolov5_v6.2\\models\\common.py:630: FutureWarning: `torch.cuda.amp.autocast(args...)` is deprecated. Please use `torch.amp.autocast('cuda', args...)` instead.\n",
      "  with amp.autocast(autocast):\n",
      "C:\\Users\\saksh/.cache\\torch\\hub\\ultralytics_yolov5_v6.2\\models\\common.py:630: FutureWarning: `torch.cuda.amp.autocast(args...)` is deprecated. Please use `torch.amp.autocast('cuda', args...)` instead.\n",
      "  with amp.autocast(autocast):\n",
      "C:\\Users\\saksh/.cache\\torch\\hub\\ultralytics_yolov5_v6.2\\models\\common.py:630: FutureWarning: `torch.cuda.amp.autocast(args...)` is deprecated. Please use `torch.amp.autocast('cuda', args...)` instead.\n",
      "  with amp.autocast(autocast):\n",
      "C:\\Users\\saksh/.cache\\torch\\hub\\ultralytics_yolov5_v6.2\\models\\common.py:630: FutureWarning: `torch.cuda.amp.autocast(args...)` is deprecated. Please use `torch.amp.autocast('cuda', args...)` instead.\n",
      "  with amp.autocast(autocast):\n",
      "C:\\Users\\saksh/.cache\\torch\\hub\\ultralytics_yolov5_v6.2\\models\\common.py:630: FutureWarning: `torch.cuda.amp.autocast(args...)` is deprecated. Please use `torch.amp.autocast('cuda', args...)` instead.\n",
      "  with amp.autocast(autocast):\n",
      "C:\\Users\\saksh/.cache\\torch\\hub\\ultralytics_yolov5_v6.2\\models\\common.py:630: FutureWarning: `torch.cuda.amp.autocast(args...)` is deprecated. Please use `torch.amp.autocast('cuda', args...)` instead.\n",
      "  with amp.autocast(autocast):\n",
      "C:\\Users\\saksh/.cache\\torch\\hub\\ultralytics_yolov5_v6.2\\models\\common.py:630: FutureWarning: `torch.cuda.amp.autocast(args...)` is deprecated. Please use `torch.amp.autocast('cuda', args...)` instead.\n",
      "  with amp.autocast(autocast):\n",
      "C:\\Users\\saksh/.cache\\torch\\hub\\ultralytics_yolov5_v6.2\\models\\common.py:630: FutureWarning: `torch.cuda.amp.autocast(args...)` is deprecated. Please use `torch.amp.autocast('cuda', args...)` instead.\n",
      "  with amp.autocast(autocast):\n",
      "C:\\Users\\saksh/.cache\\torch\\hub\\ultralytics_yolov5_v6.2\\models\\common.py:630: FutureWarning: `torch.cuda.amp.autocast(args...)` is deprecated. Please use `torch.amp.autocast('cuda', args...)` instead.\n",
      "  with amp.autocast(autocast):\n",
      "C:\\Users\\saksh/.cache\\torch\\hub\\ultralytics_yolov5_v6.2\\models\\common.py:630: FutureWarning: `torch.cuda.amp.autocast(args...)` is deprecated. Please use `torch.amp.autocast('cuda', args...)` instead.\n",
      "  with amp.autocast(autocast):\n",
      "C:\\Users\\saksh/.cache\\torch\\hub\\ultralytics_yolov5_v6.2\\models\\common.py:630: FutureWarning: `torch.cuda.amp.autocast(args...)` is deprecated. Please use `torch.amp.autocast('cuda', args...)` instead.\n",
      "  with amp.autocast(autocast):\n",
      "C:\\Users\\saksh/.cache\\torch\\hub\\ultralytics_yolov5_v6.2\\models\\common.py:630: FutureWarning: `torch.cuda.amp.autocast(args...)` is deprecated. Please use `torch.amp.autocast('cuda', args...)` instead.\n",
      "  with amp.autocast(autocast):\n",
      "C:\\Users\\saksh/.cache\\torch\\hub\\ultralytics_yolov5_v6.2\\models\\common.py:630: FutureWarning: `torch.cuda.amp.autocast(args...)` is deprecated. Please use `torch.amp.autocast('cuda', args...)` instead.\n",
      "  with amp.autocast(autocast):\n",
      "C:\\Users\\saksh/.cache\\torch\\hub\\ultralytics_yolov5_v6.2\\models\\common.py:630: FutureWarning: `torch.cuda.amp.autocast(args...)` is deprecated. Please use `torch.amp.autocast('cuda', args...)` instead.\n",
      "  with amp.autocast(autocast):\n",
      "C:\\Users\\saksh/.cache\\torch\\hub\\ultralytics_yolov5_v6.2\\models\\common.py:630: FutureWarning: `torch.cuda.amp.autocast(args...)` is deprecated. Please use `torch.amp.autocast('cuda', args...)` instead.\n",
      "  with amp.autocast(autocast):\n",
      "C:\\Users\\saksh/.cache\\torch\\hub\\ultralytics_yolov5_v6.2\\models\\common.py:630: FutureWarning: `torch.cuda.amp.autocast(args...)` is deprecated. Please use `torch.amp.autocast('cuda', args...)` instead.\n",
      "  with amp.autocast(autocast):\n",
      "C:\\Users\\saksh/.cache\\torch\\hub\\ultralytics_yolov5_v6.2\\models\\common.py:630: FutureWarning: `torch.cuda.amp.autocast(args...)` is deprecated. Please use `torch.amp.autocast('cuda', args...)` instead.\n",
      "  with amp.autocast(autocast):\n",
      "C:\\Users\\saksh/.cache\\torch\\hub\\ultralytics_yolov5_v6.2\\models\\common.py:630: FutureWarning: `torch.cuda.amp.autocast(args...)` is deprecated. Please use `torch.amp.autocast('cuda', args...)` instead.\n",
      "  with amp.autocast(autocast):\n",
      "C:\\Users\\saksh/.cache\\torch\\hub\\ultralytics_yolov5_v6.2\\models\\common.py:630: FutureWarning: `torch.cuda.amp.autocast(args...)` is deprecated. Please use `torch.amp.autocast('cuda', args...)` instead.\n",
      "  with amp.autocast(autocast):\n",
      "C:\\Users\\saksh/.cache\\torch\\hub\\ultralytics_yolov5_v6.2\\models\\common.py:630: FutureWarning: `torch.cuda.amp.autocast(args...)` is deprecated. Please use `torch.amp.autocast('cuda', args...)` instead.\n",
      "  with amp.autocast(autocast):\n",
      "C:\\Users\\saksh/.cache\\torch\\hub\\ultralytics_yolov5_v6.2\\models\\common.py:630: FutureWarning: `torch.cuda.amp.autocast(args...)` is deprecated. Please use `torch.amp.autocast('cuda', args...)` instead.\n",
      "  with amp.autocast(autocast):\n",
      "C:\\Users\\saksh/.cache\\torch\\hub\\ultralytics_yolov5_v6.2\\models\\common.py:630: FutureWarning: `torch.cuda.amp.autocast(args...)` is deprecated. Please use `torch.amp.autocast('cuda', args...)` instead.\n",
      "  with amp.autocast(autocast):\n",
      "C:\\Users\\saksh/.cache\\torch\\hub\\ultralytics_yolov5_v6.2\\models\\common.py:630: FutureWarning: `torch.cuda.amp.autocast(args...)` is deprecated. Please use `torch.amp.autocast('cuda', args...)` instead.\n",
      "  with amp.autocast(autocast):\n",
      "C:\\Users\\saksh/.cache\\torch\\hub\\ultralytics_yolov5_v6.2\\models\\common.py:630: FutureWarning: `torch.cuda.amp.autocast(args...)` is deprecated. Please use `torch.amp.autocast('cuda', args...)` instead.\n",
      "  with amp.autocast(autocast):\n",
      "C:\\Users\\saksh/.cache\\torch\\hub\\ultralytics_yolov5_v6.2\\models\\common.py:630: FutureWarning: `torch.cuda.amp.autocast(args...)` is deprecated. Please use `torch.amp.autocast('cuda', args...)` instead.\n",
      "  with amp.autocast(autocast):\n",
      "C:\\Users\\saksh/.cache\\torch\\hub\\ultralytics_yolov5_v6.2\\models\\common.py:630: FutureWarning: `torch.cuda.amp.autocast(args...)` is deprecated. Please use `torch.amp.autocast('cuda', args...)` instead.\n",
      "  with amp.autocast(autocast):\n",
      "C:\\Users\\saksh/.cache\\torch\\hub\\ultralytics_yolov5_v6.2\\models\\common.py:630: FutureWarning: `torch.cuda.amp.autocast(args...)` is deprecated. Please use `torch.amp.autocast('cuda', args...)` instead.\n",
      "  with amp.autocast(autocast):\n",
      "C:\\Users\\saksh/.cache\\torch\\hub\\ultralytics_yolov5_v6.2\\models\\common.py:630: FutureWarning: `torch.cuda.amp.autocast(args...)` is deprecated. Please use `torch.amp.autocast('cuda', args...)` instead.\n",
      "  with amp.autocast(autocast):\n",
      "C:\\Users\\saksh/.cache\\torch\\hub\\ultralytics_yolov5_v6.2\\models\\common.py:630: FutureWarning: `torch.cuda.amp.autocast(args...)` is deprecated. Please use `torch.amp.autocast('cuda', args...)` instead.\n",
      "  with amp.autocast(autocast):\n",
      "C:\\Users\\saksh/.cache\\torch\\hub\\ultralytics_yolov5_v6.2\\models\\common.py:630: FutureWarning: `torch.cuda.amp.autocast(args...)` is deprecated. Please use `torch.amp.autocast('cuda', args...)` instead.\n",
      "  with amp.autocast(autocast):\n",
      "C:\\Users\\saksh/.cache\\torch\\hub\\ultralytics_yolov5_v6.2\\models\\common.py:630: FutureWarning: `torch.cuda.amp.autocast(args...)` is deprecated. Please use `torch.amp.autocast('cuda', args...)` instead.\n",
      "  with amp.autocast(autocast):\n",
      "C:\\Users\\saksh/.cache\\torch\\hub\\ultralytics_yolov5_v6.2\\models\\common.py:630: FutureWarning: `torch.cuda.amp.autocast(args...)` is deprecated. Please use `torch.amp.autocast('cuda', args...)` instead.\n",
      "  with amp.autocast(autocast):\n",
      "C:\\Users\\saksh/.cache\\torch\\hub\\ultralytics_yolov5_v6.2\\models\\common.py:630: FutureWarning: `torch.cuda.amp.autocast(args...)` is deprecated. Please use `torch.amp.autocast('cuda', args...)` instead.\n",
      "  with amp.autocast(autocast):\n",
      "C:\\Users\\saksh/.cache\\torch\\hub\\ultralytics_yolov5_v6.2\\models\\common.py:630: FutureWarning: `torch.cuda.amp.autocast(args...)` is deprecated. Please use `torch.amp.autocast('cuda', args...)` instead.\n",
      "  with amp.autocast(autocast):\n",
      "C:\\Users\\saksh/.cache\\torch\\hub\\ultralytics_yolov5_v6.2\\models\\common.py:630: FutureWarning: `torch.cuda.amp.autocast(args...)` is deprecated. Please use `torch.amp.autocast('cuda', args...)` instead.\n",
      "  with amp.autocast(autocast):\n",
      "C:\\Users\\saksh/.cache\\torch\\hub\\ultralytics_yolov5_v6.2\\models\\common.py:630: FutureWarning: `torch.cuda.amp.autocast(args...)` is deprecated. Please use `torch.amp.autocast('cuda', args...)` instead.\n",
      "  with amp.autocast(autocast):\n",
      "C:\\Users\\saksh/.cache\\torch\\hub\\ultralytics_yolov5_v6.2\\models\\common.py:630: FutureWarning: `torch.cuda.amp.autocast(args...)` is deprecated. Please use `torch.amp.autocast('cuda', args...)` instead.\n",
      "  with amp.autocast(autocast):\n",
      "C:\\Users\\saksh/.cache\\torch\\hub\\ultralytics_yolov5_v6.2\\models\\common.py:630: FutureWarning: `torch.cuda.amp.autocast(args...)` is deprecated. Please use `torch.amp.autocast('cuda', args...)` instead.\n",
      "  with amp.autocast(autocast):\n"
     ]
    }
   ],
   "source": [
    "detect_violence(input_video_path)"
   ]
  },
  {
   "cell_type": "code",
   "execution_count": null,
   "id": "befd47bf-ce3a-4f2b-bdfb-e60abf87576f",
   "metadata": {},
   "outputs": [],
   "source": []
  },
  {
   "cell_type": "code",
   "execution_count": null,
   "id": "885cb703-5754-4d68-84e2-f1df2f8638bd",
   "metadata": {},
   "outputs": [],
   "source": []
  },
  {
   "cell_type": "code",
   "execution_count": null,
   "id": "5316482a-023f-4955-bd99-2e5e5f8e957a",
   "metadata": {},
   "outputs": [],
   "source": []
  },
  {
   "cell_type": "code",
   "execution_count": null,
   "id": "0ff2353a-4db0-497c-91a6-9cd25a2c2ee1",
   "metadata": {},
   "outputs": [],
   "source": []
  },
  {
   "cell_type": "code",
   "execution_count": null,
   "id": "08d6c738-e97d-4b0d-975e-b497d59c2458",
   "metadata": {},
   "outputs": [],
   "source": []
  },
  {
   "cell_type": "code",
   "execution_count": null,
   "id": "aca26018-d178-454b-bcf1-7303d2dfff0c",
   "metadata": {},
   "outputs": [],
   "source": []
  },
  {
   "cell_type": "code",
   "execution_count": null,
   "id": "ad55c242-cba9-4365-bee7-1aebff4f4ef3",
   "metadata": {},
   "outputs": [],
   "source": []
  },
  {
   "cell_type": "code",
   "execution_count": null,
   "id": "770bc617-78c4-4001-a0e9-546621c28044",
   "metadata": {},
   "outputs": [],
   "source": []
  },
  {
   "cell_type": "code",
   "execution_count": null,
   "id": "9458abfd-96f6-4b25-be12-c9c74c64eeff",
   "metadata": {},
   "outputs": [],
   "source": []
  },
  {
   "cell_type": "code",
   "execution_count": null,
   "id": "0d8f7958-84e3-4ee5-959d-67e043311e4f",
   "metadata": {},
   "outputs": [],
   "source": []
  },
  {
   "cell_type": "code",
   "execution_count": null,
   "id": "a7906804-e309-4939-8c09-591978df96dd",
   "metadata": {},
   "outputs": [],
   "source": []
  },
  {
   "cell_type": "code",
   "execution_count": null,
   "id": "b5ba7f61-65a2-4a52-9a5e-8c54bf3156f3",
   "metadata": {},
   "outputs": [],
   "source": []
  },
  {
   "cell_type": "code",
   "execution_count": null,
   "id": "4c2b97a7-8f84-4241-aa64-977914eca2e1",
   "metadata": {},
   "outputs": [],
   "source": []
  },
  {
   "cell_type": "code",
   "execution_count": null,
   "id": "68f81473-b61e-4587-9340-fef3de7ecc74",
   "metadata": {},
   "outputs": [],
   "source": []
  },
  {
   "cell_type": "code",
   "execution_count": null,
   "id": "6197ee90-000f-4d5e-bf33-dbf81a9de026",
   "metadata": {},
   "outputs": [],
   "source": []
  },
  {
   "cell_type": "code",
   "execution_count": null,
   "id": "8ccebb84-2780-495b-a5d2-93abc343a121",
   "metadata": {},
   "outputs": [],
   "source": []
  },
  {
   "cell_type": "code",
   "execution_count": null,
   "id": "2284e990-059d-4aeb-a133-f75fe2a05254",
   "metadata": {},
   "outputs": [],
   "source": []
  },
  {
   "cell_type": "code",
   "execution_count": null,
   "id": "f1b8f4ba-8bd2-4338-a658-eea432b34868",
   "metadata": {},
   "outputs": [],
   "source": []
  },
  {
   "cell_type": "code",
   "execution_count": null,
   "id": "66d23224-2763-45c6-9e18-e9dc1bfd9d1a",
   "metadata": {},
   "outputs": [],
   "source": []
  },
  {
   "cell_type": "code",
   "execution_count": null,
   "id": "f2d870f2-44cb-44d5-88d1-4e4cc2019ca6",
   "metadata": {},
   "outputs": [],
   "source": []
  },
  {
   "cell_type": "code",
   "execution_count": null,
   "id": "47eca045-397e-4776-b84e-83b91bad02ac",
   "metadata": {},
   "outputs": [],
   "source": []
  },
  {
   "cell_type": "code",
   "execution_count": null,
   "id": "a04e1ccc-f370-4774-95fb-55924be95911",
   "metadata": {},
   "outputs": [],
   "source": []
  },
  {
   "cell_type": "code",
   "execution_count": null,
   "id": "ac8d4c9a-7acd-4649-a4a2-bfb7f4789be2",
   "metadata": {},
   "outputs": [],
   "source": []
  },
  {
   "cell_type": "code",
   "execution_count": null,
   "id": "fd180b83-0ebf-4508-b042-882b9da21e19",
   "metadata": {},
   "outputs": [],
   "source": []
  },
  {
   "cell_type": "code",
   "execution_count": null,
   "id": "b4bfae91-7f17-4dc3-866d-fba067893377",
   "metadata": {},
   "outputs": [],
   "source": []
  },
  {
   "cell_type": "code",
   "execution_count": null,
   "id": "d45f36fd-82b4-4cdd-b2b7-9a87f8bf0acf",
   "metadata": {},
   "outputs": [],
   "source": []
  },
  {
   "cell_type": "code",
   "execution_count": null,
   "id": "bc01734f-5c76-4c79-bfdc-df2f3889d254",
   "metadata": {},
   "outputs": [],
   "source": []
  },
  {
   "cell_type": "code",
   "execution_count": null,
   "id": "f27773e5-2eb3-4d56-8a24-d51086ddb665",
   "metadata": {},
   "outputs": [],
   "source": []
  },
  {
   "cell_type": "code",
   "execution_count": null,
   "id": "e241aab6-4bac-4ae5-a9a9-d6432271e058",
   "metadata": {},
   "outputs": [],
   "source": []
  },
  {
   "cell_type": "code",
   "execution_count": null,
   "id": "50ef527a-c8f9-4787-a69e-72fb0deabfe5",
   "metadata": {},
   "outputs": [],
   "source": []
  },
  {
   "cell_type": "code",
   "execution_count": null,
   "id": "8c412645-8b4f-48b5-8d94-e7acb7a194ba",
   "metadata": {},
   "outputs": [],
   "source": []
  },
  {
   "cell_type": "code",
   "execution_count": null,
   "id": "4b0286bc-155b-44d7-b3b7-b6b245067a7e",
   "metadata": {},
   "outputs": [],
   "source": []
  },
  {
   "cell_type": "code",
   "execution_count": null,
   "id": "c616c64b-286f-4960-979b-351b3d4719c1",
   "metadata": {},
   "outputs": [],
   "source": []
  },
  {
   "cell_type": "code",
   "execution_count": null,
   "id": "5024cff8-8ca0-4996-8374-5c569a942c95",
   "metadata": {},
   "outputs": [],
   "source": []
  },
  {
   "cell_type": "code",
   "execution_count": null,
   "id": "1e266154-1e5e-42d4-83b1-57575eaff8db",
   "metadata": {},
   "outputs": [],
   "source": []
  },
  {
   "cell_type": "code",
   "execution_count": null,
   "id": "654ad5d4-07d3-419e-a94e-fb94e7d8f366",
   "metadata": {},
   "outputs": [],
   "source": []
  },
  {
   "cell_type": "code",
   "execution_count": null,
   "id": "4a2018cb-8d15-459c-8761-14f9a4ba60e0",
   "metadata": {},
   "outputs": [],
   "source": []
  },
  {
   "cell_type": "code",
   "execution_count": null,
   "id": "0933b094-de7b-4b9d-a7ee-071de22acc44",
   "metadata": {},
   "outputs": [],
   "source": []
  },
  {
   "cell_type": "code",
   "execution_count": null,
   "id": "286f3ae0-f597-4d3f-8363-51f24116ed55",
   "metadata": {},
   "outputs": [],
   "source": []
  },
  {
   "cell_type": "code",
   "execution_count": null,
   "id": "26e72804-5cb2-44f3-8088-36874cfd348c",
   "metadata": {},
   "outputs": [],
   "source": []
  },
  {
   "cell_type": "code",
   "execution_count": null,
   "id": "31e34277-5e60-4f10-9ede-2bf28a201f94",
   "metadata": {},
   "outputs": [],
   "source": []
  },
  {
   "cell_type": "code",
   "execution_count": null,
   "id": "abad9fdb-b7be-4b3a-97e9-68708cd8547a",
   "metadata": {},
   "outputs": [],
   "source": []
  },
  {
   "cell_type": "code",
   "execution_count": null,
   "id": "56de412a-80e8-4002-9311-4c73775d739b",
   "metadata": {},
   "outputs": [],
   "source": []
  },
  {
   "cell_type": "code",
   "execution_count": null,
   "id": "20036571-ea12-4e4a-b8b8-11ee070d1bf3",
   "metadata": {},
   "outputs": [],
   "source": []
  },
  {
   "cell_type": "code",
   "execution_count": null,
   "id": "711e4b68-6a75-41ee-b19a-36668c29a377",
   "metadata": {},
   "outputs": [],
   "source": []
  },
  {
   "cell_type": "code",
   "execution_count": null,
   "id": "997622de-f50a-48b2-9bed-f91113b4ba2b",
   "metadata": {},
   "outputs": [],
   "source": []
  },
  {
   "cell_type": "code",
   "execution_count": null,
   "id": "9eec79e3-dc72-4bbc-9dc8-6fa8b84165c4",
   "metadata": {},
   "outputs": [],
   "source": []
  },
  {
   "cell_type": "code",
   "execution_count": null,
   "id": "0b5c295f-f455-435f-91e2-7f50bbeee06d",
   "metadata": {},
   "outputs": [],
   "source": []
  },
  {
   "cell_type": "code",
   "execution_count": null,
   "id": "7910a254-0415-4242-aa3f-5dd89cf774ce",
   "metadata": {},
   "outputs": [],
   "source": []
  },
  {
   "cell_type": "code",
   "execution_count": null,
   "id": "ab4f6c58-bd5a-4f43-a307-b882046ec8c7",
   "metadata": {},
   "outputs": [],
   "source": []
  },
  {
   "cell_type": "code",
   "execution_count": null,
   "id": "d2f8101b-b81e-458f-a947-adb3c8a15b1a",
   "metadata": {},
   "outputs": [],
   "source": []
  },
  {
   "cell_type": "code",
   "execution_count": null,
   "id": "4c331d02-44e8-4c31-952e-700564090aa4",
   "metadata": {},
   "outputs": [],
   "source": []
  },
  {
   "cell_type": "code",
   "execution_count": null,
   "id": "fc1b97ad-ce74-4781-ab3a-c61caf866b42",
   "metadata": {},
   "outputs": [],
   "source": []
  },
  {
   "cell_type": "code",
   "execution_count": null,
   "id": "740c3a8d-3322-4c10-967b-c8d4a2d4f7bd",
   "metadata": {},
   "outputs": [],
   "source": []
  },
  {
   "cell_type": "code",
   "execution_count": null,
   "id": "26186f09-ebf4-47f4-9df2-813fd54b1c5f",
   "metadata": {},
   "outputs": [],
   "source": []
  },
  {
   "cell_type": "code",
   "execution_count": null,
   "id": "b3fef175-637c-411b-90a6-2bf2a9e8a7a3",
   "metadata": {},
   "outputs": [],
   "source": []
  },
  {
   "cell_type": "code",
   "execution_count": null,
   "id": "65f27b3a-cee3-4ed5-9adc-eb41d718bee3",
   "metadata": {},
   "outputs": [],
   "source": []
  },
  {
   "cell_type": "code",
   "execution_count": null,
   "id": "cba289ae-d5ad-4882-afa5-3b3ab22cc53e",
   "metadata": {},
   "outputs": [],
   "source": []
  },
  {
   "cell_type": "code",
   "execution_count": null,
   "id": "e60f7535-9f6a-43e6-a8fa-eac928fc303e",
   "metadata": {},
   "outputs": [],
   "source": []
  },
  {
   "cell_type": "code",
   "execution_count": null,
   "id": "752629eb-47cd-4478-8514-a0b73f31be85",
   "metadata": {},
   "outputs": [],
   "source": []
  },
  {
   "cell_type": "code",
   "execution_count": null,
   "id": "1dc85251-0a9e-4209-9c99-2e11874597db",
   "metadata": {},
   "outputs": [],
   "source": []
  },
  {
   "cell_type": "code",
   "execution_count": null,
   "id": "898264ad-ceb9-4e62-b397-624a7a51f39f",
   "metadata": {},
   "outputs": [],
   "source": []
  },
  {
   "cell_type": "code",
   "execution_count": null,
   "id": "74d02bb5-f79f-4e5b-a17f-4fc03a9ef8c2",
   "metadata": {},
   "outputs": [],
   "source": []
  },
  {
   "cell_type": "code",
   "execution_count": null,
   "id": "9f6bc2db-e581-4848-92b8-19eafd0a3efe",
   "metadata": {},
   "outputs": [],
   "source": []
  },
  {
   "cell_type": "code",
   "execution_count": null,
   "id": "d9af2552-ef8d-4f86-9dbc-b8f198d92340",
   "metadata": {},
   "outputs": [],
   "source": []
  },
  {
   "cell_type": "code",
   "execution_count": null,
   "id": "995bade2-8800-4289-9db2-6f146e5d0971",
   "metadata": {},
   "outputs": [],
   "source": []
  },
  {
   "cell_type": "code",
   "execution_count": null,
   "id": "3eee1ecf-6623-4f7f-bfad-e6fbf527e9ec",
   "metadata": {},
   "outputs": [],
   "source": []
  },
  {
   "cell_type": "code",
   "execution_count": null,
   "id": "7d2ac995-453e-40e4-a82f-0457036732fe",
   "metadata": {},
   "outputs": [],
   "source": []
  },
  {
   "cell_type": "code",
   "execution_count": null,
   "id": "232c0ab6-06e9-4829-a453-b58cede04240",
   "metadata": {},
   "outputs": [],
   "source": []
  },
  {
   "cell_type": "code",
   "execution_count": null,
   "id": "89b676a6-da64-4f82-b0fe-79c0204a484e",
   "metadata": {},
   "outputs": [],
   "source": []
  },
  {
   "cell_type": "code",
   "execution_count": null,
   "id": "107bf402-c5c7-4705-b255-d57176fd9f03",
   "metadata": {},
   "outputs": [],
   "source": []
  },
  {
   "cell_type": "code",
   "execution_count": null,
   "id": "9928398f-cae3-49d2-8e35-6e8437c091d8",
   "metadata": {},
   "outputs": [],
   "source": []
  },
  {
   "cell_type": "code",
   "execution_count": null,
   "id": "16e66fd7-dc2a-49d7-b5e0-b69acf2da429",
   "metadata": {},
   "outputs": [],
   "source": []
  },
  {
   "cell_type": "code",
   "execution_count": null,
   "id": "3433beee-1f03-4232-a19d-05ccbfa4327e",
   "metadata": {},
   "outputs": [],
   "source": []
  }
 ],
 "metadata": {
  "kernelspec": {
   "display_name": "Python 3 (ipykernel)",
   "language": "python",
   "name": "python3"
  },
  "language_info": {
   "codemirror_mode": {
    "name": "ipython",
    "version": 3
   },
   "file_extension": ".py",
   "mimetype": "text/x-python",
   "name": "python",
   "nbconvert_exporter": "python",
   "pygments_lexer": "ipython3",
   "version": "3.11.5"
  }
 },
 "nbformat": 4,
 "nbformat_minor": 5
}
